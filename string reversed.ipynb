{
 "cells": [
  {
   "cell_type": "code",
   "execution_count": 2,
   "metadata": {},
   "outputs": [
    {
     "name": "stdout",
     "output_type": "stream",
     "text": [
      "write the first name:annas\n",
      "write the last name:shahid\n",
      "----------------input string are---------------\n",
      "annasshahid\n",
      "----------reversed string are----------\n",
      "shahidannasshahid\n"
     ]
    }
   ],
   "source": [
    "x = input(\"write the first name:\")\n",
    "y = input(\"write the last name:\")\n",
    "print(\"----------------input string are---------------\")\n",
    "c = x+y\n",
    "print(c)\n",
    "print(\"----------reversed string are----------\")\n",
    "c=y+c\n",
    "print(c)\n"
   ]
  }
 ],
 "metadata": {
  "kernelspec": {
   "display_name": "Python 3",
   "language": "python",
   "name": "python3"
  },
  "language_info": {
   "codemirror_mode": {
    "name": "ipython",
    "version": 3
   },
   "file_extension": ".py",
   "mimetype": "text/x-python",
   "name": "python",
   "nbconvert_exporter": "python",
   "pygments_lexer": "ipython3",
   "version": "3.7.4"
  }
 },
 "nbformat": 4,
 "nbformat_minor": 2
}
