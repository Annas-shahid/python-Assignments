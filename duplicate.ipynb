{
 "cells": [
  {
   "cell_type": "code",
   "execution_count": 8,
   "metadata": {},
   "outputs": [
    {
     "name": "stdout",
     "output_type": "stream",
     "text": [
      "please enter a value:annas\n",
      "value is duplicate:\n"
     ]
    }
   ],
   "source": [
    "my_list = [\"annas\", \"1\", \"shahid\", \"15\"]\n",
    "x = input(\"please enter a value:\")\n",
    "for i in range(len(my_list)):\n",
    "    if x == my_list[i]:\n",
    "        print(\"value is duplicate:\")\n",
    "\n",
    "  "
   ]
  }
 ],
 "metadata": {
  "kernelspec": {
   "display_name": "Python 3",
   "language": "python",
   "name": "python3"
  },
  "language_info": {
   "codemirror_mode": {
    "name": "ipython",
    "version": 3
   },
   "file_extension": ".py",
   "mimetype": "text/x-python",
   "name": "python",
   "nbconvert_exporter": "python",
   "pygments_lexer": "ipython3",
   "version": "3.7.4"
  }
 },
 "nbformat": 4,
 "nbformat_minor": 2
}
