{
 "cells": [
  {
   "cell_type": "code",
   "execution_count": 1,
   "metadata": {},
   "outputs": [
    {
     "name": "stdout",
     "output_type": "stream",
     "text": [
      "{'karachi': {'country': 'pakistan', 'population': '1234', 'fact': 'no thing to tell'}, 'lahore': {'country': 'pakistan', 'population': '456', 'fact': 'some thing to tell'}, 'shinghai': {'country': 'china', 'population': '7890', 'fact': ' thing to tell'}}\n"
     ]
    }
   ],
   "source": [
    "cities = dict(karachi={\n",
    "\n",
    "    \"country\": \"pakistan\",\n",
    "    \"population\": \"1234\",\n",
    "    \"fact\": \"no thing to tell\"\n",
    "\n",
    "}, lahore={\n",
    "\n",
    "    \"country\": \"pakistan\",\n",
    "    \"population\": \"456\",\n",
    "    \"fact\": \"some thing to tell\"\n",
    "\n",
    "}, shinghai={\n",
    "\n",
    "    \"country\": \"china\",\n",
    "    \"population\": \"7890\",\n",
    "    \"fact\": \" thing to tell\"\n",
    "\n",
    "})\n",
    "print(cities)\n"
   ]
  },
  {
   "cell_type": "code",
   "execution_count": null,
   "metadata": {},
   "outputs": [],
   "source": []
  }
 ],
 "metadata": {
  "kernelspec": {
   "display_name": "Python 3",
   "language": "python",
   "name": "python3"
  },
  "language_info": {
   "codemirror_mode": {
    "name": "ipython",
    "version": 3
   },
   "file_extension": ".py",
   "mimetype": "text/x-python",
   "name": "python",
   "nbconvert_exporter": "python",
   "pygments_lexer": "ipython3",
   "version": "3.7.4"
  }
 },
 "nbformat": 4,
 "nbformat_minor": 2
}
