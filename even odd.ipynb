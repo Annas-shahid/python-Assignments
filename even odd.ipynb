{
 "cells": [
  {
   "cell_type": "code",
   "execution_count": 1,
   "metadata": {},
   "outputs": [
    {
     "name": "stdout",
     "output_type": "stream",
     "text": [
      "enter the number: 1\n",
      "None2\n",
      "your number is even \n",
      "enter the number: 2\n",
      "None3\n",
      "given number is odd\n",
      "enter the number: 3\n",
      "None4\n",
      "your number is even \n",
      "enter the number: 4\n",
      "None5\n",
      "given number is odd\n",
      "enter the number: 5\n",
      "None6\n",
      "your number is even \n"
     ]
    }
   ],
   "source": [
    "for i in range(1, 6):\n",
    "    x = float(input(print(\"enter the number:\" , i)))\n",
    "    if x % 2 == 0:\n",
    "\n",
    "        print(\"your number is even \")\n",
    "    else:\n",
    "        print(\"given number is odd\")"
   ]
  },
  {
   "cell_type": "code",
   "execution_count": null,
   "metadata": {},
   "outputs": [],
   "source": []
  }
 ],
 "metadata": {
  "kernelspec": {
   "display_name": "Python 3",
   "language": "python",
   "name": "python3"
  },
  "language_info": {
   "codemirror_mode": {
    "name": "ipython",
    "version": 3
   },
   "file_extension": ".py",
   "mimetype": "text/x-python",
   "name": "python",
   "nbconvert_exporter": "python",
   "pygments_lexer": "ipython3",
   "version": "3.7.4"
  }
 },
 "nbformat": 4,
 "nbformat_minor": 2
}
