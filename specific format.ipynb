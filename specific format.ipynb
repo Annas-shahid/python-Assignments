{
 "cells": [
  {
   "cell_type": "code",
   "execution_count": 6,
   "metadata": {},
   "outputs": [
    {
     "name": "stdout",
     "output_type": "stream",
     "text": [
      "twinkle, twinkle, little star,\n",
      "\thow i wonder what you are!\n",
      "\t\tup above the world so high\n",
      "\t\tLike a diamond in the sky.\n",
      "twinkle, twinkle, little star,\n",
      "\thow i wonder what you are!\n"
     ]
    }
   ],
   "source": [
    "print(\"twinkle, twinkle, little star,\\n\\thow i wonder what you are!\\n\\t\\tup above the world so high\\n\\t\\tLike a diamond in the sky.\\ntwinkle, twinkle, little star,\\n\\thow i wonder what you are!\")"
   ]
  }
 ],
 "metadata": {
  "kernelspec": {
   "display_name": "Python 3",
   "language": "python",
   "name": "python3"
  },
  "language_info": {
   "codemirror_mode": {
    "name": "ipython",
    "version": 3
   },
   "file_extension": ".py",
   "mimetype": "text/x-python",
   "name": "python",
   "nbconvert_exporter": "python",
   "pygments_lexer": "ipython3",
   "version": "3.7.4"
  }
 },
 "nbformat": 4,
 "nbformat_minor": 2
}
