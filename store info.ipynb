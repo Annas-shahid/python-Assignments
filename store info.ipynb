{
 "cells": [
  {
   "cell_type": "code",
   "execution_count": null,
   "metadata": {},
   "outputs": [],
   "source": [
    "my_file = {\"first_name\": \"owais\", \"last_name\": \"salamat\", \"age\": \"24\", \"city\": \"karachi\"}\n",
    "for i in my_file.values():\n",
    "    print(i)\n",
    "print(\"*****************************************\")\n",
    "my_file[\"qualification\"] = \"middle\"\n",
    "for i in my_file.values():\n",
    "    print(i)\n",
    "print(\"*****************************************\")\n",
    "\n",
    "my_file[\"qualification\"] = \"BSCS\"\n",
    "for i in my_file.values():\n",
    "    print(i)\n"
   ]
  }
 ],
 "metadata": {
  "kernelspec": {
   "display_name": "Python 3",
   "language": "python",
   "name": "python3"
  },
  "language_info": {
   "codemirror_mode": {
    "name": "ipython",
    "version": 3
   },
   "file_extension": ".py",
   "mimetype": "text/x-python",
   "name": "python",
   "nbconvert_exporter": "python",
   "pygments_lexer": "ipython3",
   "version": "3.7.4"
  }
 },
 "nbformat": 4,
 "nbformat_minor": 2
}
