{
 "cells": [
  {
   "cell_type": "code",
   "execution_count": null,
   "metadata": {},
   "outputs": [],
   "source": [
    "from random import seed\n",
    "from random import randint\n",
    "\n",
    "value = randint(1, 30)\n",
    "x = int(input(\"enter the number\"))\n",
    "print(\"you have three choices\")\n",
    "for i in range(0, 3):\n",
    "    if value != x and x < value:\n",
    "        print(\"your value is smaller\")\n",
    "        x = int(input(\"enter the new number\"))\n",
    "    elif x > value:\n",
    "        print(\"your value is greater\")\n",
    "        x = int(input(\"enter the new number\"))\n",
    "\n",
    "if x == value:\n",
    "    print(\"YOU HAVE WON \")\n",
    "else:\n",
    "    print(\"you lost\")"
   ]
  }
 ],
 "metadata": {
  "kernelspec": {
   "display_name": "Python 3",
   "language": "python",
   "name": "python3"
  },
  "language_info": {
   "codemirror_mode": {
    "name": "ipython",
    "version": 3
   },
   "file_extension": ".py",
   "mimetype": "text/x-python",
   "name": "python",
   "nbconvert_exporter": "python",
   "pygments_lexer": "ipython3",
   "version": "3.7.4"
  }
 },
 "nbformat": 4,
 "nbformat_minor": 2
}
