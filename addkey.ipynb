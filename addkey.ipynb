{
 "cells": [
  {
   "cell_type": "code",
   "execution_count": 1,
   "metadata": {},
   "outputs": [
    {
     "name": "stdout",
     "output_type": "stream",
     "text": [
      "kawasaki\n",
      "1992\n",
      "125\n",
      "-------------------new list---------------------\n",
      "kawasaki\n",
      "1992\n",
      "125\n",
      "black\n"
     ]
    }
   ],
   "source": [
    "my_bike = {\"name\": \"kawasaki\", \"model\": \"1992\", \"horse power\": \"125\"}\n",
    "for x in my_bike.values():\n",
    "    print(x)\n",
    "my_bike[\"color\"] = \"black\"\n",
    "print(\"-------------------new list---------------------\")\n",
    "for x in my_bike.values():\n",
    "    print(x)\n"
   ]
  }
 ],
 "metadata": {
  "kernelspec": {
   "display_name": "Python 3",
   "language": "python",
   "name": "python3"
  },
  "language_info": {
   "codemirror_mode": {
    "name": "ipython",
    "version": 3
   },
   "file_extension": ".py",
   "mimetype": "text/x-python",
   "name": "python",
   "nbconvert_exporter": "python",
   "pygments_lexer": "ipython3",
   "version": "3.7.4"
  }
 },
 "nbformat": 4,
 "nbformat_minor": 2
}
