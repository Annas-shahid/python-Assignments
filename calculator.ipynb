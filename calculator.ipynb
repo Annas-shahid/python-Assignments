{
 "cells": [
  {
   "cell_type": "code",
   "execution_count": 1,
   "metadata": {},
   "outputs": [
    {
     "name": "stdout",
     "output_type": "stream",
     "text": [
      "which operation do you want to perform. subtraction=1,addition=2,multiplication=3,divide=4:1\n",
      "write a value :4\n",
      "write second value :3\n",
      "your value is : 1.0\n"
     ]
    }
   ],
   "source": [
    "z = int(input(\"which operation do you want to perform. subtraction=1,addition=2,multiplication=3,divide=4:\"))\n",
    "x = float(input(\"write a value :\"))\n",
    "y = float(input(\"write second value :\"))\n",
    "\n",
    "if z == 1:\n",
    "    v = x - y\n",
    "    print(\"your value is :\", v)\n",
    "elif z == 2:\n",
    "    v = x + y\n",
    "    print(\"your value is \", v)\n",
    "elif z == 3:\n",
    "    v = x * y\n",
    "    print(\"your value is :\", v)\n",
    "elif z == 4:\n",
    "    v = x / y\n",
    "    print(\"your value is :\", v)\n",
    "elif z == 5:\n",
    "\n",
    "    v = x ** y\n",
    "    print(\"your value is\", v)\n",
    "else:\n",
    "    print(\"please insert the correct value\")\n"
   ]
  },
  {
   "cell_type": "code",
   "execution_count": null,
   "metadata": {},
   "outputs": [],
   "source": []
  }
 ],
 "metadata": {
  "kernelspec": {
   "display_name": "Python 3",
   "language": "python",
   "name": "python3"
  },
  "language_info": {
   "codemirror_mode": {
    "name": "ipython",
    "version": 3
   },
   "file_extension": ".py",
   "mimetype": "text/x-python",
   "name": "python",
   "nbconvert_exporter": "python",
   "pygments_lexer": "ipython3",
   "version": "3.7.4"
  }
 },
 "nbformat": 4,
 "nbformat_minor": 2
}
