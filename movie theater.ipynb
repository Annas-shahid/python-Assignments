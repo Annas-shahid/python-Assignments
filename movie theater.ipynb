{
 "cells": [
  {
   "cell_type": "code",
   "execution_count": null,
   "metadata": {},
   "outputs": [],
   "source": [
    "i = int(input(\"tell the required number of tickets: \"))\n",
    "for v in range(i):\n",
    "    age = int(input(\"tell your age for tickets :\"))\n",
    "    if age < 3:\n",
    "        print(\"your are a child so you enjoy free\")\n",
    "    elif 3 <= age <= 12:\n",
    "        print(\"you ticket price is $10\")\n",
    "    elif age > 12:\n",
    "        print(\"your ticket price is $15\")"
   ]
  }
 ],
 "metadata": {
  "kernelspec": {
   "display_name": "Python 3",
   "language": "python",
   "name": "python3"
  },
  "language_info": {
   "codemirror_mode": {
    "name": "ipython",
    "version": 3
   },
   "file_extension": ".py",
   "mimetype": "text/x-python",
   "name": "python",
   "nbconvert_exporter": "python",
   "pygments_lexer": "ipython3",
   "version": "3.7.4"
  }
 },
 "nbformat": 4,
 "nbformat_minor": 2
}
