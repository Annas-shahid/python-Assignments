{
 "cells": [
  {
   "cell_type": "code",
   "execution_count": 1,
   "metadata": {},
   "outputs": [
    {
     "name": "stdout",
     "output_type": "stream",
     "text": [
      "enter the marks for maths:78\n",
      "enter the marks for english:76\n",
      "enter the marks for urdu:98\n",
      "enter the marks for pst:67\n",
      "enter the marks for computer56\n",
      "your obtained marks are: 375.0\n",
      "your percentage is :  75.0\n",
      "your grade is B\n"
     ]
    }
   ],
   "source": [
    "maths = float(input(\"enter the marks for maths:\"))\n",
    "english = float(input(\"enter the marks for english:\"))\n",
    "urdu = float(input(\"enter the marks for urdu:\"))\n",
    "pst = float(input(\"enter the marks for pst:\"))\n",
    "total_marks = 500\n",
    "computer = float(input(\"enter the marks for computer:\"))\n",
    "obtained_marks = float(maths + english + pst + computer + urdu)\n",
    "print(\"your obtained marks are:\", obtained_marks)\n",
    "percentage = float(obtained_marks / total_marks * 100)\n",
    "print(\"your percentage is : \", percentage)\n",
    "if percentage < 60:\n",
    "    print(\"your grade is F\")\n",
    "if 60 <= percentage < 70:\n",
    "    print(\"your grade is C\")\n",
    "if 70 <= percentage < 80:\n",
    "    print(\"your grade is B\")\n",
    "if 80 <= percentage < 90:\n",
    "    print(\"your grade is A\")\n",
    "elif percentage >= 90:\n",
    "    print(\"your grade is A1\")\n"
   ]
  },
  {
   "cell_type": "code",
   "execution_count": null,
   "metadata": {},
   "outputs": [],
   "source": []
  }
 ],
 "metadata": {
  "kernelspec": {
   "display_name": "Python 3",
   "language": "python",
   "name": "python3"
  },
  "language_info": {
   "codemirror_mode": {
    "name": "ipython",
    "version": 3
   },
   "file_extension": ".py",
   "mimetype": "text/x-python",
   "name": "python",
   "nbconvert_exporter": "python",
   "pygments_lexer": "ipython3",
   "version": "3.7.4"
  }
 },
 "nbformat": 4,
 "nbformat_minor": 2
}
