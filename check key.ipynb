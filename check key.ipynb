{
 "cells": [
  {
   "cell_type": "code",
   "execution_count": 2,
   "metadata": {},
   "outputs": [
    {
     "name": "stdout",
     "output_type": "stream",
     "text": [
      "please enter a value:new\n",
      "space available\n"
     ]
    }
   ],
   "source": [
    "check_key = {'name': 'annas', 'father name': 'shahid'}\n",
    "\n",
    "x = input(\"please enter a value:\")\n",
    "\n",
    "for i in range(len(check_key)):\n",
    "    if x in dict.keys(check_key):\n",
    "        print(\"key is duplicate:\")\n",
    "    else:\n",
    "        print(\"space available\")\n",
    "    break\n"
   ]
  }
 ],
 "metadata": {
  "kernelspec": {
   "display_name": "Python 3",
   "language": "python",
   "name": "python3"
  },
  "language_info": {
   "codemirror_mode": {
    "name": "ipython",
    "version": 3
   },
   "file_extension": ".py",
   "mimetype": "text/x-python",
   "name": "python",
   "nbconvert_exporter": "python",
   "pygments_lexer": "ipython3",
   "version": "3.7.4"
  }
 },
 "nbformat": 4,
 "nbformat_minor": 2
}
